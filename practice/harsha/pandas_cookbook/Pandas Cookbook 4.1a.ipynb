{
 "cells": [
  {
   "cell_type": "markdown",
   "metadata": {},
   "source": [
    "# Slicing Operations"
   ]
  },
  {
   "cell_type": "code",
   "execution_count": 1,
   "metadata": {
    "collapsed": true
   },
   "outputs": [],
   "source": [
    "import pandas as pd\n",
    "import numpy as np"
   ]
  },
  {
   "cell_type": "code",
   "execution_count": 2,
   "metadata": {
    "collapsed": false
   },
   "outputs": [
    {
     "name": "stdout",
     "output_type": "stream",
     "text": [
      "Populating the interactive namespace from numpy and matplotlib\n"
     ]
    }
   ],
   "source": [
    "%pylab inline"
   ]
  },
  {
   "cell_type": "code",
   "execution_count": 3,
   "metadata": {
    "collapsed": true
   },
   "outputs": [],
   "source": [
    "days = pd.date_range('2014-01-01', '2014-02-28', freq = 'D')\n"
   ]
  },
  {
   "cell_type": "code",
   "execution_count": 4,
   "metadata": {
    "collapsed": false
   },
   "outputs": [
    {
     "data": {
      "text/plain": [
       "DatetimeIndex(['2014-01-01', '2014-01-02', '2014-01-03', '2014-01-04',\n",
       "               '2014-01-05', '2014-01-06', '2014-01-07', '2014-01-08',\n",
       "               '2014-01-09', '2014-01-10', '2014-01-11', '2014-01-12',\n",
       "               '2014-01-13', '2014-01-14', '2014-01-15', '2014-01-16',\n",
       "               '2014-01-17', '2014-01-18', '2014-01-19', '2014-01-20',\n",
       "               '2014-01-21', '2014-01-22', '2014-01-23', '2014-01-24',\n",
       "               '2014-01-25', '2014-01-26', '2014-01-27', '2014-01-28',\n",
       "               '2014-01-29', '2014-01-30', '2014-01-31', '2014-02-01',\n",
       "               '2014-02-02', '2014-02-03', '2014-02-04', '2014-02-05',\n",
       "               '2014-02-06', '2014-02-07', '2014-02-08', '2014-02-09',\n",
       "               '2014-02-10', '2014-02-11', '2014-02-12', '2014-02-13',\n",
       "               '2014-02-14', '2014-02-15', '2014-02-16', '2014-02-17',\n",
       "               '2014-02-18', '2014-02-19', '2014-02-20', '2014-02-21',\n",
       "               '2014-02-22', '2014-02-23', '2014-02-24', '2014-02-25',\n",
       "               '2014-02-26', '2014-02-27', '2014-02-28'],\n",
       "              dtype='datetime64[ns]', freq='D')"
      ]
     },
     "execution_count": 4,
     "metadata": {},
     "output_type": "execute_result"
    }
   ],
   "source": [
    "days"
   ]
  },
  {
   "cell_type": "code",
   "execution_count": 5,
   "metadata": {
    "collapsed": true
   },
   "outputs": [],
   "source": [
    "dim = (59,5)\n"
   ]
  },
  {
   "cell_type": "code",
   "execution_count": 6,
   "metadata": {
    "collapsed": true
   },
   "outputs": [],
   "source": [
    "df = pd.DataFrame(np.random.random_integers(-20,40,dim), index=days, columns=['Madrid','Boston','Tokyo','Shanghai','Kolkata'])"
   ]
  },
  {
   "cell_type": "code",
   "execution_count": 7,
   "metadata": {
    "collapsed": false
   },
   "outputs": [
    {
     "data": {
      "text/plain": [
       "(59, 5)"
      ]
     },
     "execution_count": 7,
     "metadata": {},
     "output_type": "execute_result"
    }
   ],
   "source": [
    "df.shape"
   ]
  },
  {
   "cell_type": "code",
   "execution_count": 11,
   "metadata": {
    "collapsed": false
   },
   "outputs": [
    {
     "data": {
      "text/html": [
       "<div>\n",
       "<table border=\"1\" class=\"dataframe\">\n",
       "  <thead>\n",
       "    <tr style=\"text-align: right;\">\n",
       "      <th></th>\n",
       "      <th>Madrid</th>\n",
       "      <th>Boston</th>\n",
       "      <th>Tokyo</th>\n",
       "      <th>Shanghai</th>\n",
       "      <th>Kolkata</th>\n",
       "    </tr>\n",
       "  </thead>\n",
       "  <tbody>\n",
       "    <tr>\n",
       "      <th>2014-01-01</th>\n",
       "      <td>31</td>\n",
       "      <td>39</td>\n",
       "      <td>-15</td>\n",
       "      <td>13</td>\n",
       "      <td>14</td>\n",
       "    </tr>\n",
       "    <tr>\n",
       "      <th>2014-01-02</th>\n",
       "      <td>-14</td>\n",
       "      <td>-9</td>\n",
       "      <td>2</td>\n",
       "      <td>34</td>\n",
       "      <td>-14</td>\n",
       "    </tr>\n",
       "    <tr>\n",
       "      <th>2014-01-03</th>\n",
       "      <td>-8</td>\n",
       "      <td>33</td>\n",
       "      <td>-12</td>\n",
       "      <td>-15</td>\n",
       "      <td>32</td>\n",
       "    </tr>\n",
       "    <tr>\n",
       "      <th>2014-01-04</th>\n",
       "      <td>2</td>\n",
       "      <td>18</td>\n",
       "      <td>8</td>\n",
       "      <td>22</td>\n",
       "      <td>16</td>\n",
       "    </tr>\n",
       "    <tr>\n",
       "      <th>2014-01-05</th>\n",
       "      <td>-15</td>\n",
       "      <td>30</td>\n",
       "      <td>5</td>\n",
       "      <td>4</td>\n",
       "      <td>-19</td>\n",
       "    </tr>\n",
       "  </tbody>\n",
       "</table>\n",
       "</div>"
      ],
      "text/plain": [
       "            Madrid  Boston  Tokyo  Shanghai  Kolkata\n",
       "2014-01-01      31      39    -15        13       14\n",
       "2014-01-02     -14      -9      2        34      -14\n",
       "2014-01-03      -8      33    -12       -15       32\n",
       "2014-01-04       2      18      8        22       16\n",
       "2014-01-05     -15      30      5         4      -19"
      ]
     },
     "execution_count": 11,
     "metadata": {},
     "output_type": "execute_result"
    }
   ],
   "source": [
    "df.head()"
   ]
  },
  {
   "cell_type": "code",
   "execution_count": 12,
   "metadata": {
    "collapsed": false
   },
   "outputs": [
    {
     "data": {
      "text/html": [
       "<div>\n",
       "<table border=\"1\" class=\"dataframe\">\n",
       "  <thead>\n",
       "    <tr style=\"text-align: right;\">\n",
       "      <th></th>\n",
       "      <th>Madrid</th>\n",
       "      <th>Boston</th>\n",
       "      <th>Tokyo</th>\n",
       "    </tr>\n",
       "  </thead>\n",
       "  <tbody>\n",
       "    <tr>\n",
       "      <th>2014-01-04</th>\n",
       "      <td>2</td>\n",
       "      <td>18</td>\n",
       "      <td>8</td>\n",
       "    </tr>\n",
       "    <tr>\n",
       "      <th>2014-01-05</th>\n",
       "      <td>-15</td>\n",
       "      <td>30</td>\n",
       "      <td>5</td>\n",
       "    </tr>\n",
       "    <tr>\n",
       "      <th>2014-01-06</th>\n",
       "      <td>15</td>\n",
       "      <td>24</td>\n",
       "      <td>-16</td>\n",
       "    </tr>\n",
       "  </tbody>\n",
       "</table>\n",
       "</div>"
      ],
      "text/plain": [
       "            Madrid  Boston  Tokyo\n",
       "2014-01-04       2      18      8\n",
       "2014-01-05     -15      30      5\n",
       "2014-01-06      15      24    -16"
      ]
     },
     "execution_count": 12,
     "metadata": {},
     "output_type": "execute_result"
    }
   ],
   "source": [
    "df.ix[3:6, 'Madrid': 'Tokyo']"
   ]
  },
  {
   "cell_type": "code",
   "execution_count": 17,
   "metadata": {
    "collapsed": false
   },
   "outputs": [
    {
     "data": {
      "text/html": [
       "<div>\n",
       "<table border=\"1\" class=\"dataframe\">\n",
       "  <thead>\n",
       "    <tr style=\"text-align: right;\">\n",
       "      <th></th>\n",
       "      <th>Madrid</th>\n",
       "      <th>Boston</th>\n",
       "      <th>Tokyo</th>\n",
       "      <th>Shanghai</th>\n",
       "      <th>Kolkata</th>\n",
       "    </tr>\n",
       "  </thead>\n",
       "  <tbody>\n",
       "    <tr>\n",
       "      <th>2014-01-02</th>\n",
       "      <td>-14</td>\n",
       "      <td>-9</td>\n",
       "      <td>2</td>\n",
       "      <td>34</td>\n",
       "      <td>-14</td>\n",
       "    </tr>\n",
       "    <tr>\n",
       "      <th>2014-01-03</th>\n",
       "      <td>-8</td>\n",
       "      <td>33</td>\n",
       "      <td>-12</td>\n",
       "      <td>-15</td>\n",
       "      <td>32</td>\n",
       "    </tr>\n",
       "    <tr>\n",
       "      <th>2014-01-04</th>\n",
       "      <td>2</td>\n",
       "      <td>18</td>\n",
       "      <td>8</td>\n",
       "      <td>22</td>\n",
       "      <td>16</td>\n",
       "    </tr>\n",
       "  </tbody>\n",
       "</table>\n",
       "</div>"
      ],
      "text/plain": [
       "            Madrid  Boston  Tokyo  Shanghai  Kolkata\n",
       "2014-01-02     -14      -9      2        34      -14\n",
       "2014-01-03      -8      33    -12       -15       32\n",
       "2014-01-04       2      18      8        22       16"
      ]
     },
     "execution_count": 17,
     "metadata": {},
     "output_type": "execute_result"
    }
   ],
   "source": [
    "df.ix[[1,2,3],:]\n"
   ]
  },
  {
   "cell_type": "code",
   "execution_count": 21,
   "metadata": {
    "collapsed": false
   },
   "outputs": [],
   "source": [
    "m = pd.read_csv('mortality.csv')\n",
    "m = m.set_index('Country Name')"
   ]
  },
  {
   "cell_type": "code",
   "execution_count": 19,
   "metadata": {
    "collapsed": false
   },
   "outputs": [
    {
     "data": {
      "text/html": [
       "<div>\n",
       "<table border=\"1\" class=\"dataframe\">\n",
       "  <thead>\n",
       "    <tr style=\"text-align: right;\">\n",
       "      <th></th>\n",
       "      <th>Country Name</th>\n",
       "      <th>1960</th>\n",
       "      <th>1961</th>\n",
       "      <th>1962</th>\n",
       "      <th>1963</th>\n",
       "      <th>1964</th>\n",
       "      <th>1965</th>\n",
       "      <th>1966</th>\n",
       "      <th>1967</th>\n",
       "      <th>1968</th>\n",
       "      <th>...</th>\n",
       "      <th>2004</th>\n",
       "      <th>2005</th>\n",
       "      <th>2006</th>\n",
       "      <th>2007</th>\n",
       "      <th>2008</th>\n",
       "      <th>2009</th>\n",
       "      <th>2010</th>\n",
       "      <th>2011</th>\n",
       "      <th>2012</th>\n",
       "      <th>2013</th>\n",
       "    </tr>\n",
       "  </thead>\n",
       "  <tbody>\n",
       "    <tr>\n",
       "      <th>0</th>\n",
       "      <td>Aruba</td>\n",
       "      <td>NaN</td>\n",
       "      <td>NaN</td>\n",
       "      <td>NaN</td>\n",
       "      <td>NaN</td>\n",
       "      <td>NaN</td>\n",
       "      <td>NaN</td>\n",
       "      <td>NaN</td>\n",
       "      <td>NaN</td>\n",
       "      <td>NaN</td>\n",
       "      <td>...</td>\n",
       "      <td>NaN</td>\n",
       "      <td>NaN</td>\n",
       "      <td>NaN</td>\n",
       "      <td>NaN</td>\n",
       "      <td>NaN</td>\n",
       "      <td>NaN</td>\n",
       "      <td>NaN</td>\n",
       "      <td>NaN</td>\n",
       "      <td>NaN</td>\n",
       "      <td>NaN</td>\n",
       "    </tr>\n",
       "    <tr>\n",
       "      <th>1</th>\n",
       "      <td>Andorra</td>\n",
       "      <td>NaN</td>\n",
       "      <td>NaN</td>\n",
       "      <td>NaN</td>\n",
       "      <td>NaN</td>\n",
       "      <td>NaN</td>\n",
       "      <td>NaN</td>\n",
       "      <td>NaN</td>\n",
       "      <td>NaN</td>\n",
       "      <td>NaN</td>\n",
       "      <td>...</td>\n",
       "      <td>4.3</td>\n",
       "      <td>4.1</td>\n",
       "      <td>4.0</td>\n",
       "      <td>3.8</td>\n",
       "      <td>3.7</td>\n",
       "      <td>3.6</td>\n",
       "      <td>3.5</td>\n",
       "      <td>3.3</td>\n",
       "      <td>3.2</td>\n",
       "      <td>NaN</td>\n",
       "    </tr>\n",
       "    <tr>\n",
       "      <th>2</th>\n",
       "      <td>Afghanistan</td>\n",
       "      <td>NaN</td>\n",
       "      <td>352.5</td>\n",
       "      <td>346.9</td>\n",
       "      <td>341.8</td>\n",
       "      <td>336.8</td>\n",
       "      <td>331.6</td>\n",
       "      <td>326.2</td>\n",
       "      <td>321.2</td>\n",
       "      <td>316.2</td>\n",
       "      <td>...</td>\n",
       "      <td>121.0</td>\n",
       "      <td>117.7</td>\n",
       "      <td>114.5</td>\n",
       "      <td>111.5</td>\n",
       "      <td>108.8</td>\n",
       "      <td>106.2</td>\n",
       "      <td>103.7</td>\n",
       "      <td>101.2</td>\n",
       "      <td>98.5</td>\n",
       "      <td>NaN</td>\n",
       "    </tr>\n",
       "    <tr>\n",
       "      <th>3</th>\n",
       "      <td>Angola</td>\n",
       "      <td>NaN</td>\n",
       "      <td>NaN</td>\n",
       "      <td>NaN</td>\n",
       "      <td>NaN</td>\n",
       "      <td>NaN</td>\n",
       "      <td>NaN</td>\n",
       "      <td>NaN</td>\n",
       "      <td>NaN</td>\n",
       "      <td>NaN</td>\n",
       "      <td>...</td>\n",
       "      <td>196.4</td>\n",
       "      <td>194.2</td>\n",
       "      <td>191.1</td>\n",
       "      <td>187.1</td>\n",
       "      <td>182.6</td>\n",
       "      <td>177.9</td>\n",
       "      <td>173.1</td>\n",
       "      <td>168.5</td>\n",
       "      <td>163.5</td>\n",
       "      <td>NaN</td>\n",
       "    </tr>\n",
       "    <tr>\n",
       "      <th>4</th>\n",
       "      <td>Albania</td>\n",
       "      <td>NaN</td>\n",
       "      <td>NaN</td>\n",
       "      <td>NaN</td>\n",
       "      <td>NaN</td>\n",
       "      <td>NaN</td>\n",
       "      <td>NaN</td>\n",
       "      <td>NaN</td>\n",
       "      <td>NaN</td>\n",
       "      <td>NaN</td>\n",
       "      <td>...</td>\n",
       "      <td>23.3</td>\n",
       "      <td>22.2</td>\n",
       "      <td>21.2</td>\n",
       "      <td>20.3</td>\n",
       "      <td>19.5</td>\n",
       "      <td>18.8</td>\n",
       "      <td>18.1</td>\n",
       "      <td>17.4</td>\n",
       "      <td>16.7</td>\n",
       "      <td>NaN</td>\n",
       "    </tr>\n",
       "  </tbody>\n",
       "</table>\n",
       "<p>5 rows × 55 columns</p>\n",
       "</div>"
      ],
      "text/plain": [
       "  Country Name  1960   1961   1962   1963   1964   1965   1966   1967   1968  \\\n",
       "0        Aruba   NaN    NaN    NaN    NaN    NaN    NaN    NaN    NaN    NaN   \n",
       "1      Andorra   NaN    NaN    NaN    NaN    NaN    NaN    NaN    NaN    NaN   \n",
       "2  Afghanistan   NaN  352.5  346.9  341.8  336.8  331.6  326.2  321.2  316.2   \n",
       "3       Angola   NaN    NaN    NaN    NaN    NaN    NaN    NaN    NaN    NaN   \n",
       "4      Albania   NaN    NaN    NaN    NaN    NaN    NaN    NaN    NaN    NaN   \n",
       "\n",
       "   ...    2004   2005   2006   2007   2008   2009   2010   2011   2012  2013  \n",
       "0  ...     NaN    NaN    NaN    NaN    NaN    NaN    NaN    NaN    NaN   NaN  \n",
       "1  ...     4.3    4.1    4.0    3.8    3.7    3.6    3.5    3.3    3.2   NaN  \n",
       "2  ...   121.0  117.7  114.5  111.5  108.8  106.2  103.7  101.2   98.5   NaN  \n",
       "3  ...   196.4  194.2  191.1  187.1  182.6  177.9  173.1  168.5  163.5   NaN  \n",
       "4  ...    23.3   22.2   21.2   20.3   19.5   18.8   18.1   17.4   16.7   NaN  \n",
       "\n",
       "[5 rows x 55 columns]"
      ]
     },
     "execution_count": 19,
     "metadata": {},
     "output_type": "execute_result"
    }
   ],
   "source": [
    "m.head()"
   ]
  },
  {
   "cell_type": "code",
   "execution_count": 22,
   "metadata": {
    "collapsed": true
   },
   "outputs": [],
   "source": [
    "t = m.T"
   ]
  },
  {
   "cell_type": "code",
   "execution_count": 23,
   "metadata": {
    "collapsed": false
   },
   "outputs": [
    {
     "data": {
      "text/html": [
       "<div>\n",
       "<table border=\"1\" class=\"dataframe\">\n",
       "  <thead>\n",
       "    <tr style=\"text-align: right;\">\n",
       "      <th>Country Name</th>\n",
       "      <th>Aruba</th>\n",
       "      <th>Andorra</th>\n",
       "      <th>Afghanistan</th>\n",
       "      <th>Angola</th>\n",
       "      <th>Albania</th>\n",
       "      <th>United Arab Emirates</th>\n",
       "      <th>Argentina</th>\n",
       "      <th>Armenia</th>\n",
       "      <th>American Samoa</th>\n",
       "      <th>Antigua and Barbuda</th>\n",
       "      <th>...</th>\n",
       "      <th>Virgin Islands (U.S.)</th>\n",
       "      <th>Vietnam</th>\n",
       "      <th>Vanuatu</th>\n",
       "      <th>West Bank and Gaza</th>\n",
       "      <th>Samoa</th>\n",
       "      <th>Yemen, Rep.</th>\n",
       "      <th>South Africa</th>\n",
       "      <th>Congo, Dem. Rep.</th>\n",
       "      <th>Zambia</th>\n",
       "      <th>Zimbabwe</th>\n",
       "    </tr>\n",
       "  </thead>\n",
       "  <tbody>\n",
       "    <tr>\n",
       "      <th>1960</th>\n",
       "      <td>NaN</td>\n",
       "      <td>NaN</td>\n",
       "      <td>NaN</td>\n",
       "      <td>NaN</td>\n",
       "      <td>NaN</td>\n",
       "      <td>206.7</td>\n",
       "      <td>NaN</td>\n",
       "      <td>NaN</td>\n",
       "      <td>NaN</td>\n",
       "      <td>NaN</td>\n",
       "      <td>...</td>\n",
       "      <td>NaN</td>\n",
       "      <td>119.8</td>\n",
       "      <td>152.4</td>\n",
       "      <td>NaN</td>\n",
       "      <td>NaN</td>\n",
       "      <td>NaN</td>\n",
       "      <td>NaN</td>\n",
       "      <td>NaN</td>\n",
       "      <td>205.8</td>\n",
       "      <td>148.8</td>\n",
       "    </tr>\n",
       "    <tr>\n",
       "      <th>1961</th>\n",
       "      <td>NaN</td>\n",
       "      <td>NaN</td>\n",
       "      <td>352.5</td>\n",
       "      <td>NaN</td>\n",
       "      <td>NaN</td>\n",
       "      <td>195.6</td>\n",
       "      <td>NaN</td>\n",
       "      <td>NaN</td>\n",
       "      <td>NaN</td>\n",
       "      <td>NaN</td>\n",
       "      <td>...</td>\n",
       "      <td>NaN</td>\n",
       "      <td>114.5</td>\n",
       "      <td>148.0</td>\n",
       "      <td>NaN</td>\n",
       "      <td>NaN</td>\n",
       "      <td>395.7</td>\n",
       "      <td>NaN</td>\n",
       "      <td>NaN</td>\n",
       "      <td>202.0</td>\n",
       "      <td>144.3</td>\n",
       "    </tr>\n",
       "    <tr>\n",
       "      <th>1962</th>\n",
       "      <td>NaN</td>\n",
       "      <td>NaN</td>\n",
       "      <td>346.9</td>\n",
       "      <td>NaN</td>\n",
       "      <td>NaN</td>\n",
       "      <td>184.7</td>\n",
       "      <td>NaN</td>\n",
       "      <td>NaN</td>\n",
       "      <td>NaN</td>\n",
       "      <td>NaN</td>\n",
       "      <td>...</td>\n",
       "      <td>NaN</td>\n",
       "      <td>109.7</td>\n",
       "      <td>143.9</td>\n",
       "      <td>NaN</td>\n",
       "      <td>NaN</td>\n",
       "      <td>388.3</td>\n",
       "      <td>NaN</td>\n",
       "      <td>NaN</td>\n",
       "      <td>198.3</td>\n",
       "      <td>139.5</td>\n",
       "    </tr>\n",
       "    <tr>\n",
       "      <th>1963</th>\n",
       "      <td>NaN</td>\n",
       "      <td>NaN</td>\n",
       "      <td>341.8</td>\n",
       "      <td>NaN</td>\n",
       "      <td>NaN</td>\n",
       "      <td>173.9</td>\n",
       "      <td>NaN</td>\n",
       "      <td>NaN</td>\n",
       "      <td>NaN</td>\n",
       "      <td>NaN</td>\n",
       "      <td>...</td>\n",
       "      <td>NaN</td>\n",
       "      <td>105.0</td>\n",
       "      <td>139.3</td>\n",
       "      <td>NaN</td>\n",
       "      <td>NaN</td>\n",
       "      <td>382.1</td>\n",
       "      <td>NaN</td>\n",
       "      <td>NaN</td>\n",
       "      <td>195.1</td>\n",
       "      <td>134.9</td>\n",
       "    </tr>\n",
       "    <tr>\n",
       "      <th>1964</th>\n",
       "      <td>NaN</td>\n",
       "      <td>NaN</td>\n",
       "      <td>336.8</td>\n",
       "      <td>NaN</td>\n",
       "      <td>NaN</td>\n",
       "      <td>163.1</td>\n",
       "      <td>NaN</td>\n",
       "      <td>NaN</td>\n",
       "      <td>NaN</td>\n",
       "      <td>NaN</td>\n",
       "      <td>...</td>\n",
       "      <td>NaN</td>\n",
       "      <td>100.9</td>\n",
       "      <td>134.8</td>\n",
       "      <td>NaN</td>\n",
       "      <td>NaN</td>\n",
       "      <td>375.5</td>\n",
       "      <td>NaN</td>\n",
       "      <td>NaN</td>\n",
       "      <td>192.4</td>\n",
       "      <td>130.2</td>\n",
       "    </tr>\n",
       "  </tbody>\n",
       "</table>\n",
       "<p>5 rows × 224 columns</p>\n",
       "</div>"
      ],
      "text/plain": [
       "Country Name  Aruba  Andorra  Afghanistan  Angola  Albania  \\\n",
       "1960            NaN      NaN          NaN     NaN      NaN   \n",
       "1961            NaN      NaN        352.5     NaN      NaN   \n",
       "1962            NaN      NaN        346.9     NaN      NaN   \n",
       "1963            NaN      NaN        341.8     NaN      NaN   \n",
       "1964            NaN      NaN        336.8     NaN      NaN   \n",
       "\n",
       "Country Name  United Arab Emirates  Argentina  Armenia  American Samoa  \\\n",
       "1960                         206.7        NaN      NaN             NaN   \n",
       "1961                         195.6        NaN      NaN             NaN   \n",
       "1962                         184.7        NaN      NaN             NaN   \n",
       "1963                         173.9        NaN      NaN             NaN   \n",
       "1964                         163.1        NaN      NaN             NaN   \n",
       "\n",
       "Country Name  Antigua and Barbuda    ...     Virgin Islands (U.S.)  Vietnam  \\\n",
       "1960                          NaN    ...                       NaN    119.8   \n",
       "1961                          NaN    ...                       NaN    114.5   \n",
       "1962                          NaN    ...                       NaN    109.7   \n",
       "1963                          NaN    ...                       NaN    105.0   \n",
       "1964                          NaN    ...                       NaN    100.9   \n",
       "\n",
       "Country Name  Vanuatu  West Bank and Gaza  Samoa  Yemen, Rep.  South Africa  \\\n",
       "1960            152.4                 NaN    NaN          NaN           NaN   \n",
       "1961            148.0                 NaN    NaN        395.7           NaN   \n",
       "1962            143.9                 NaN    NaN        388.3           NaN   \n",
       "1963            139.3                 NaN    NaN        382.1           NaN   \n",
       "1964            134.8                 NaN    NaN        375.5           NaN   \n",
       "\n",
       "Country Name  Congo, Dem. Rep.  Zambia  Zimbabwe  \n",
       "1960                       NaN   205.8     148.8  \n",
       "1961                       NaN   202.0     144.3  \n",
       "1962                       NaN   198.3     139.5  \n",
       "1963                       NaN   195.1     134.9  \n",
       "1964                       NaN   192.4     130.2  \n",
       "\n",
       "[5 rows x 224 columns]"
      ]
     },
     "execution_count": 23,
     "metadata": {},
     "output_type": "execute_result"
    }
   ],
   "source": [
    "t.head()"
   ]
  },
  {
   "cell_type": "code",
   "execution_count": 24,
   "metadata": {
    "collapsed": true
   },
   "outputs": [],
   "source": [
    "comparison = t[['Bangladesh','India','Rwanda','Uganda']]\n"
   ]
  },
  {
   "cell_type": "code",
   "execution_count": 25,
   "metadata": {
    "collapsed": false
   },
   "outputs": [
    {
     "data": {
      "text/html": [
       "<div>\n",
       "<table border=\"1\" class=\"dataframe\">\n",
       "  <thead>\n",
       "    <tr style=\"text-align: right;\">\n",
       "      <th>Country Name</th>\n",
       "      <th>Bangladesh</th>\n",
       "      <th>India</th>\n",
       "      <th>Rwanda</th>\n",
       "      <th>Uganda</th>\n",
       "    </tr>\n",
       "  </thead>\n",
       "  <tbody>\n",
       "    <tr>\n",
       "      <th>2009</th>\n",
       "      <td>50.9</td>\n",
       "      <td>63.8</td>\n",
       "      <td>69.4</td>\n",
       "      <td>83.0</td>\n",
       "    </tr>\n",
       "    <tr>\n",
       "      <th>2010</th>\n",
       "      <td>47.2</td>\n",
       "      <td>61.2</td>\n",
       "      <td>63.8</td>\n",
       "      <td>78.3</td>\n",
       "    </tr>\n",
       "    <tr>\n",
       "      <th>2011</th>\n",
       "      <td>43.8</td>\n",
       "      <td>58.6</td>\n",
       "      <td>58.9</td>\n",
       "      <td>74.0</td>\n",
       "    </tr>\n",
       "    <tr>\n",
       "      <th>2012</th>\n",
       "      <td>40.9</td>\n",
       "      <td>56.3</td>\n",
       "      <td>55.0</td>\n",
       "      <td>68.9</td>\n",
       "    </tr>\n",
       "    <tr>\n",
       "      <th>2013</th>\n",
       "      <td>NaN</td>\n",
       "      <td>NaN</td>\n",
       "      <td>NaN</td>\n",
       "      <td>NaN</td>\n",
       "    </tr>\n",
       "  </tbody>\n",
       "</table>\n",
       "</div>"
      ],
      "text/plain": [
       "Country Name  Bangladesh  India  Rwanda  Uganda\n",
       "2009                50.9   63.8    69.4    83.0\n",
       "2010                47.2   61.2    63.8    78.3\n",
       "2011                43.8   58.6    58.9    74.0\n",
       "2012                40.9   56.3    55.0    68.9\n",
       "2013                 NaN    NaN     NaN     NaN"
      ]
     },
     "execution_count": 25,
     "metadata": {},
     "output_type": "execute_result"
    }
   ],
   "source": [
    "comparison.tail()\n"
   ]
  },
  {
   "cell_type": "code",
   "execution_count": 26,
   "metadata": {
    "collapsed": false
   },
   "outputs": [
    {
     "data": {
      "text/plain": [
       "<matplotlib.axes._subplots.AxesSubplot at 0x7fa88f06f6d0>"
      ]
     },
     "execution_count": 26,
     "metadata": {},
     "output_type": "execute_result"
    },
    {
     "data": {
      "image/png": "[encoded data removed]",
      "text/plain": [
       "<matplotlib.figure.Figure at 0x7fa88f201e10>"
      ]
     },
     "metadata": {},
     "output_type": "display_data"
    }
   ],
   "source": [
    "comparison.plot()"
   ]
  },
  {
   "cell_type": "code",
   "execution_count": null,
   "metadata": {
    "collapsed": true
   },
   "outputs": [],
   "source": []
  }
 ],
 "metadata": {
  "kernelspec": {
   "display_name": "Python 2",
   "language": "python",
   "name": "python2"
  },
  "language_info": {
   "codemirror_mode": {
    "name": "ipython",
    "version": 2
   },
   "file_extension": ".py",
   "mimetype": "text/x-python",
   "name": "python",
   "nbconvert_exporter": "python",
   "pygments_lexer": "ipython2",
   "version": "2.7.12"
  }
 },
 "nbformat": 4,
 "nbformat_minor": 0
}
