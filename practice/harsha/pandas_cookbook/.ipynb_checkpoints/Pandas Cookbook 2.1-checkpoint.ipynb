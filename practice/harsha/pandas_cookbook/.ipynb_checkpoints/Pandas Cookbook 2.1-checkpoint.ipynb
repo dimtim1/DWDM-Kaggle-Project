{
 "cells": [
  {
   "cell_type": "code",
   "execution_count": 1,
   "metadata": {
    "collapsed": true
   },
   "outputs": [],
   "source": [
    "import pandas as pd\n",
    "import numpy as np"
   ]
  },
  {
   "cell_type": "code",
   "execution_count": 2,
   "metadata": {
    "collapsed": true
   },
   "outputs": [],
   "source": [
    "mlb = pd.read_csv('mlbsalaries.csv')"
   ]
  },
  {
   "cell_type": "code",
   "execution_count": 3,
   "metadata": {
    "collapsed": false
   },
   "outputs": [
    {
     "data": {
      "text/html": [
       "<div>\n",
       "<table border=\"1\" class=\"dataframe\">\n",
       "  <thead>\n",
       "    <tr style=\"text-align: right;\">\n",
       "      <th></th>\n",
       "      <th>Year</th>\n",
       "      <th>Player</th>\n",
       "      <th>Salary</th>\n",
       "      <th>Position</th>\n",
       "      <th>Team</th>\n",
       "    </tr>\n",
       "  </thead>\n",
       "  <tbody>\n",
       "    <tr>\n",
       "      <th>19538</th>\n",
       "      <td>2011</td>\n",
       "      <td>Gustavo Molina</td>\n",
       "      <td>455000</td>\n",
       "      <td>Catcher</td>\n",
       "      <td>New York Yankees</td>\n",
       "    </tr>\n",
       "    <tr>\n",
       "      <th>19539</th>\n",
       "      <td>2011</td>\n",
       "      <td>Ivan Nova</td>\n",
       "      <td>432900</td>\n",
       "      <td>Pitcher</td>\n",
       "      <td>New York Yankees</td>\n",
       "    </tr>\n",
       "    <tr>\n",
       "      <th>19540</th>\n",
       "      <td>2011</td>\n",
       "      <td>Colin Curtis</td>\n",
       "      <td>420400</td>\n",
       "      <td>Outfielder</td>\n",
       "      <td>New York Yankees</td>\n",
       "    </tr>\n",
       "    <tr>\n",
       "      <th>19541</th>\n",
       "      <td>2011</td>\n",
       "      <td>Eduardo Nunez</td>\n",
       "      <td>419300</td>\n",
       "      <td>Shortstop</td>\n",
       "      <td>New York Yankees</td>\n",
       "    </tr>\n",
       "    <tr>\n",
       "      <th>19542</th>\n",
       "      <td>2011</td>\n",
       "      <td>Reegie Corona</td>\n",
       "      <td>414000</td>\n",
       "      <td>Second Baseman</td>\n",
       "      <td>New York Yankees</td>\n",
       "    </tr>\n",
       "  </tbody>\n",
       "</table>\n",
       "</div>"
      ],
      "text/plain": [
       "       Year          Player  Salary        Position              Team\n",
       "19538  2011  Gustavo Molina  455000         Catcher  New York Yankees\n",
       "19539  2011       Ivan Nova  432900         Pitcher  New York Yankees\n",
       "19540  2011    Colin Curtis  420400      Outfielder  New York Yankees\n",
       "19541  2011   Eduardo Nunez  419300       Shortstop  New York Yankees\n",
       "19542  2011   Reegie Corona  414000  Second Baseman  New York Yankees"
      ]
     },
     "execution_count": 3,
     "metadata": {},
     "output_type": "execute_result"
    }
   ],
   "source": [
    "mlb.tail()"
   ]
  },
  {
   "cell_type": "code",
   "execution_count": 4,
   "metadata": {
    "collapsed": false
   },
   "outputs": [
    {
     "data": {
      "text/plain": [
       "1990    972\n",
       "1999    919\n",
       "2008    858\n",
       "2001    857\n",
       "2002    849\n",
       "2007    848\n",
       "1998    846\n",
       "2011    843\n",
       "2000    843\n",
       "2004    833\n",
       "2005    831\n",
       "2010    828\n",
       "2003    826\n",
       "2006    823\n",
       "2009    818\n",
       "1995    805\n",
       "1993    786\n",
       "1997    773\n",
       "1996    768\n",
       "1992    753\n",
       "1994    748\n",
       "1991    720\n",
       "1989    710\n",
       "1988    686\n",
       "Name: Year, dtype: int64"
      ]
     },
     "execution_count": 4,
     "metadata": {},
     "output_type": "execute_result"
    }
   ],
   "source": [
    "mlb.Year.value_counts()"
   ]
  },
  {
   "cell_type": "code",
   "execution_count": 5,
   "metadata": {
    "collapsed": false
   },
   "outputs": [
    {
     "data": {
      "text/plain": [
       "Omar Vizquel          23\n",
       "Tom Glavine           22\n",
       "Ken Griffey Jr.       22\n",
       "John Smoltz           22\n",
       "Tom Gordon            21\n",
       "Randy Johnson         21\n",
       "Gary Sheffield        21\n",
       "Greg Maddux           21\n",
       "Ivan Rodriguez        20\n",
       "David Wells           20\n",
       "Barry Bonds           20\n",
       "Jamie Moyer           20\n",
       "Kenny Rogers          20\n",
       "Jim Thome             19\n",
       "Steve Finley          19\n",
       "Craig Biggio          19\n",
       "Mike Stanton          19\n",
       "Curt Schilling        19\n",
       "Trevor Hoffman        18\n",
       "Matt Stairs           18\n",
       "Chipper Jones         18\n",
       "Frank Thomas          18\n",
       "Tim Wakefield         18\n",
       "Manny Ramirez         18\n",
       "Roberto Hernandez     18\n",
       "Mike Timlin           18\n",
       "Roger Clemens         18\n",
       "B.J. Surhoff          18\n",
       "Arthur Rhodes         18\n",
       "Rafael Palmeiro       18\n",
       "                      ..\n",
       "Anderson Garcia        1\n",
       "Ryan Kohlmeier         1\n",
       "Anthony Lerew          1\n",
       "Don Baylor             1\n",
       "Howard Hilton          1\n",
       "Enrique Burgos         1\n",
       "Tom O'Malley           1\n",
       "Tommy Barrett          1\n",
       "Jordan Walden          1\n",
       "Steve Bieser           1\n",
       "Scott Frederickson     1\n",
       "Marcos Mateo           1\n",
       "Paul Carey             1\n",
       "Bobby Livingston       1\n",
       "Eric Reed              1\n",
       "Rontrez Johnson        1\n",
       "Mauricio Robles        1\n",
       "Nate Cromwell          1\n",
       "Mat Gamel              1\n",
       "Greg Carmona           1\n",
       "Park Pittman           1\n",
       "Charlie Kerfield       1\n",
       "Jesse Foppert          1\n",
       "Ruben Quevedo          1\n",
       "Andy Tracy             1\n",
       "Chris W.  Carter       1\n",
       "Ricky Rhodes           1\n",
       "Dave Bush              1\n",
       "Chuck Malone           1\n",
       "Jon Palmer             1\n",
       "Name: Player, dtype: int64"
      ]
     },
     "execution_count": 5,
     "metadata": {},
     "output_type": "execute_result"
    }
   ],
   "source": [
    "mlb.Player.value_counts()"
   ]
  },
  {
   "cell_type": "code",
   "execution_count": 6,
   "metadata": {
    "collapsed": false
   },
   "outputs": [
    {
     "data": {
      "text/plain": [
       "Texas Rangers            711\n",
       "Los Angeles Dodgers      698\n",
       "Los Angeles Angels       695\n",
       "Philadelphia Phillies    695\n",
       "St. Louis Cardinals      693\n",
       "Cleveland Indians        693\n",
       "Boston Red Sox           692\n",
       "Milwaukee Brewers        690\n",
       "Washington Nationals     687\n",
       "New York Yankees         685\n",
       "Baltimore Orioles        684\n",
       "Seattle Mariners         684\n",
       "Toronto Blue Jays        683\n",
       "Atlanta Braves           683\n",
       "Cincinnati Reds          681\n",
       "San Francisco Giants     678\n",
       "Detroit Tigers           676\n",
       "New York Mets            676\n",
       "Kansas City Royals       674\n",
       "Oakland Athletics        674\n",
       "San Diego Padres         673\n",
       "Pittsburgh Pirates       669\n",
       "Chicago Cubs             663\n",
       "Houston Astros           660\n",
       "Minnesota Twins          650\n",
       "Chicago White Sox        648\n",
       "Florida Marlins          533\n",
       "Colorado Rockies         528\n",
       "Tampa Bay Rays           398\n",
       "Arizona Diamondbacks     389\n",
       "Name: Team, dtype: int64"
      ]
     },
     "execution_count": 6,
     "metadata": {},
     "output_type": "execute_result"
    }
   ],
   "source": [
    "mlb.Team.value_counts()"
   ]
  },
  {
   "cell_type": "code",
   "execution_count": 7,
   "metadata": {
    "collapsed": false
   },
   "outputs": [
    {
     "data": {
      "text/plain": [
       "Pitcher              9160\n",
       "Outfielder           3785\n",
       "Catcher              1664\n",
       "Shortstop            1331\n",
       "Second Baseman       1216\n",
       "Third Baseman        1139\n",
       "First Baseman        1118\n",
       "Designated Hitter     109\n",
       "Infielder              21\n",
       "Name: Position, dtype: int64"
      ]
     },
     "execution_count": 7,
     "metadata": {},
     "output_type": "execute_result"
    }
   ],
   "source": [
    "mlb.Position.value_counts()"
   ]
  },
  {
   "cell_type": "code",
   "execution_count": 12,
   "metadata": {
    "collapsed": false
   },
   "outputs": [
    {
     "data": {
      "text/html": [
       "<div>\n",
       "<table border=\"1\" class=\"dataframe\">\n",
       "  <thead>\n",
       "    <tr style=\"text-align: right;\">\n",
       "      <th></th>\n",
       "      <th>Year</th>\n",
       "      <th>Player</th>\n",
       "      <th>Salary</th>\n",
       "      <th>Position</th>\n",
       "      <th>Team</th>\n",
       "    </tr>\n",
       "  </thead>\n",
       "  <tbody>\n",
       "    <tr>\n",
       "      <th>17872</th>\n",
       "      <td>2010</td>\n",
       "      <td>Torii Hunter</td>\n",
       "      <td>18500000</td>\n",
       "      <td>Outfielder</td>\n",
       "      <td>Los Angeles Angels</td>\n",
       "    </tr>\n",
       "    <tr>\n",
       "      <th>17873</th>\n",
       "      <td>2010</td>\n",
       "      <td>Bobby Abreu</td>\n",
       "      <td>9000000</td>\n",
       "      <td>Outfielder</td>\n",
       "      <td>Los Angeles Angels</td>\n",
       "    </tr>\n",
       "    <tr>\n",
       "      <th>17874</th>\n",
       "      <td>2010</td>\n",
       "      <td>Brian Fuentes</td>\n",
       "      <td>9000000</td>\n",
       "      <td>Pitcher</td>\n",
       "      <td>Los Angeles Angels</td>\n",
       "    </tr>\n",
       "    <tr>\n",
       "      <th>17875</th>\n",
       "      <td>2010</td>\n",
       "      <td>Scott Kazmir</td>\n",
       "      <td>8000000</td>\n",
       "      <td>Pitcher</td>\n",
       "      <td>Los Angeles Angels</td>\n",
       "    </tr>\n",
       "    <tr>\n",
       "      <th>17876</th>\n",
       "      <td>2010</td>\n",
       "      <td>Joel Pineiro</td>\n",
       "      <td>8000000</td>\n",
       "      <td>Pitcher</td>\n",
       "      <td>Los Angeles Angels</td>\n",
       "    </tr>\n",
       "  </tbody>\n",
       "</table>\n",
       "</div>"
      ],
      "text/plain": [
       "       Year         Player    Salary    Position                Team\n",
       "17872  2010   Torii Hunter  18500000  Outfielder  Los Angeles Angels\n",
       "17873  2010    Bobby Abreu   9000000  Outfielder  Los Angeles Angels\n",
       "17874  2010  Brian Fuentes   9000000     Pitcher  Los Angeles Angels\n",
       "17875  2010   Scott Kazmir   8000000     Pitcher  Los Angeles Angels\n",
       "17876  2010   Joel Pineiro   8000000     Pitcher  Los Angeles Angels"
      ]
     },
     "execution_count": 12,
     "metadata": {},
     "output_type": "execute_result"
    }
   ],
   "source": [
    "yr2010 = mlb[mlb.Year == 2010]\n",
    "yr2010.head()"
   ]
  },
  {
   "cell_type": "code",
   "execution_count": 14,
   "metadata": {
    "collapsed": false
   },
   "outputs": [],
   "source": [
    "yr2010 = yr2010.set_index('Player')"
   ]
  },
  {
   "cell_type": "code",
   "execution_count": 15,
   "metadata": {
    "collapsed": false
   },
   "outputs": [
    {
     "data": {
      "text/html": [
       "<div>\n",
       "<table border=\"1\" class=\"dataframe\">\n",
       "  <thead>\n",
       "    <tr style=\"text-align: right;\">\n",
       "      <th></th>\n",
       "      <th>Year</th>\n",
       "      <th>Salary</th>\n",
       "      <th>Position</th>\n",
       "      <th>Team</th>\n",
       "    </tr>\n",
       "    <tr>\n",
       "      <th>Player</th>\n",
       "      <th></th>\n",
       "      <th></th>\n",
       "      <th></th>\n",
       "      <th></th>\n",
       "    </tr>\n",
       "  </thead>\n",
       "  <tbody>\n",
       "    <tr>\n",
       "      <th>Torii Hunter</th>\n",
       "      <td>2010</td>\n",
       "      <td>18500000</td>\n",
       "      <td>Outfielder</td>\n",
       "      <td>Los Angeles Angels</td>\n",
       "    </tr>\n",
       "    <tr>\n",
       "      <th>Bobby Abreu</th>\n",
       "      <td>2010</td>\n",
       "      <td>9000000</td>\n",
       "      <td>Outfielder</td>\n",
       "      <td>Los Angeles Angels</td>\n",
       "    </tr>\n",
       "    <tr>\n",
       "      <th>Brian Fuentes</th>\n",
       "      <td>2010</td>\n",
       "      <td>9000000</td>\n",
       "      <td>Pitcher</td>\n",
       "      <td>Los Angeles Angels</td>\n",
       "    </tr>\n",
       "    <tr>\n",
       "      <th>Scott Kazmir</th>\n",
       "      <td>2010</td>\n",
       "      <td>8000000</td>\n",
       "      <td>Pitcher</td>\n",
       "      <td>Los Angeles Angels</td>\n",
       "    </tr>\n",
       "    <tr>\n",
       "      <th>Joel Pineiro</th>\n",
       "      <td>2010</td>\n",
       "      <td>8000000</td>\n",
       "      <td>Pitcher</td>\n",
       "      <td>Los Angeles Angels</td>\n",
       "    </tr>\n",
       "  </tbody>\n",
       "</table>\n",
       "</div>"
      ],
      "text/plain": [
       "               Year    Salary    Position                Team\n",
       "Player                                                       \n",
       "Torii Hunter   2010  18500000  Outfielder  Los Angeles Angels\n",
       "Bobby Abreu    2010   9000000  Outfielder  Los Angeles Angels\n",
       "Brian Fuentes  2010   9000000     Pitcher  Los Angeles Angels\n",
       "Scott Kazmir   2010   8000000     Pitcher  Los Angeles Angels\n",
       "Joel Pineiro   2010   8000000     Pitcher  Los Angeles Angels"
      ]
     },
     "execution_count": 15,
     "metadata": {},
     "output_type": "execute_result"
    }
   ],
   "source": [
    "yr2010.head()"
   ]
  },
  {
   "cell_type": "code",
   "execution_count": null,
   "metadata": {
    "collapsed": true
   },
   "outputs": [],
   "source": []
  }
 ],
 "metadata": {
  "kernelspec": {
   "display_name": "Python 2",
   "language": "python",
   "name": "python2"
  },
  "language_info": {
   "codemirror_mode": {
    "name": "ipython",
    "version": 2
   },
   "file_extension": ".py",
   "mimetype": "text/x-python",
   "name": "python",
   "nbconvert_exporter": "python",
   "pygments_lexer": "ipython2",
   "version": "2.7.12"
  }
 },
 "nbformat": 4,
 "nbformat_minor": 0
}
