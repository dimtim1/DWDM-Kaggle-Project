{
 "metadata": {
  "name": ""
 },
 "nbformat": 3,
 "nbformat_minor": 0,
 "worksheets": [
  {
   "cells": [
    {
     "cell_type": "code",
     "collapsed": false,
     "input": [
      "import pandas as pd\n",
      "import numpy as np\n",
      "\n",
      "import xgboost as xgb\n",
      "from sklearn import grid_search "
     ],
     "language": "python",
     "metadata": {},
     "outputs": [],
     "prompt_number": 25
    },
    {
     "cell_type": "code",
     "collapsed": false,
     "input": [
      "train_data = pd.read_csv('../../data/train.csv')\n",
      "test_data = pd.read_csv('../../data/test.csv')\n",
      "\n",
      "all_data = pd.concat((train_data.loc[:, 'MSSubClass':'SaleCondition'],\n",
      "                      test_data.loc[:, 'MSSubClass':'SaleCondition']))\n",
      "all_data = pd.get_dummies(all_data)\n",
      "all_data = all_data.fillna(all_data[:train_data.shape[0]].mean())\n",
      "\n",
      "X_train = all_data[:train_data.shape[0]]\n",
      "print X_train.shape\n",
      "X_test = all_data[train_data.shape[0]:]\n",
      "print X_test.shape\n",
      "y = train_data.SalePrice"
     ],
     "language": "python",
     "metadata": {},
     "outputs": [
      {
       "output_type": "stream",
       "stream": "stdout",
       "text": [
        "(1460, 288)\n",
        "(1459, 288)\n"
       ]
      }
     ],
     "prompt_number": 26
    },
    {
     "cell_type": "code",
     "collapsed": false,
     "input": [
      "model = xgb.XGBRegressor()"
     ],
     "language": "python",
     "metadata": {},
     "outputs": [],
     "prompt_number": 27
    },
    {
     "cell_type": "code",
     "collapsed": false,
     "input": [
      "parameters = {'gamma':[i/10.0 for i in range(0,5)]}"
     ],
     "language": "python",
     "metadata": {},
     "outputs": [],
     "prompt_number": 28
    },
    {
     "cell_type": "code",
     "collapsed": false,
     "input": [
      "grid = grid_search.GridSearchCV(model, parameters)"
     ],
     "language": "python",
     "metadata": {},
     "outputs": [],
     "prompt_number": 29
    },
    {
     "cell_type": "code",
     "collapsed": false,
     "input": [
      "grid.fit(X_train, y)"
     ],
     "language": "python",
     "metadata": {},
     "outputs": [
      {
       "metadata": {},
       "output_type": "pyout",
       "prompt_number": 30,
       "text": [
        "GridSearchCV(cv=None, error_score='raise',\n",
        "       estimator=XGBRegressor(base_score=0.5, colsample_bylevel=1, colsample_bytree=1, gamma=0,\n",
        "       learning_rate=0.1, max_delta_step=0, max_depth=3,\n",
        "       min_child_weight=1, missing=None, n_estimators=100, nthread=-1,\n",
        "       objective='reg:linear', reg_alpha=0, reg_lambda=1,\n",
        "       scale_pos_weight=1, seed=0, silent=True, subsample=1),\n",
        "       fit_params={}, iid=True, n_jobs=1,\n",
        "       param_grid={'gamma': [0.0, 0.1, 0.2, 0.3, 0.4]},\n",
        "       pre_dispatch='2*n_jobs', refit=True, scoring=None, verbose=0)"
       ]
      }
     ],
     "prompt_number": 30
    },
    {
     "cell_type": "code",
     "collapsed": false,
     "input": [
      "print (grid)\n",
      "\n",
      "# summarize the results of grid search\n",
      "print (grid.best_score_)"
     ],
     "language": "python",
     "metadata": {},
     "outputs": [
      {
       "output_type": "stream",
       "stream": "stdout",
       "text": [
        "GridSearchCV(cv=None, error_score='raise',\n",
        "       estimator=XGBRegressor(base_score=0.5, colsample_bylevel=1, colsample_bytree=1, gamma=0,\n",
        "       learning_rate=0.1, max_delta_step=0, max_depth=3,\n",
        "       min_child_weight=1, missing=None, n_estimators=100, nthread=-1,\n",
        "       objective='reg:linear', reg_alpha=0, reg_lambda=1,\n",
        "       scale_pos_weight=1, seed=0, silent=True, subsample=1),\n",
        "       fit_params={}, iid=True, n_jobs=1,\n",
        "       param_grid={'gamma': [0.0, 0.1, 0.2, 0.3, 0.4]},\n",
        "       pre_dispatch='2*n_jobs', refit=True, scoring=None, verbose=0)\n",
        "0.881604565717\n"
       ]
      }
     ],
     "prompt_number": 31
    }
   ],
   "metadata": {}
  }
 ]
}