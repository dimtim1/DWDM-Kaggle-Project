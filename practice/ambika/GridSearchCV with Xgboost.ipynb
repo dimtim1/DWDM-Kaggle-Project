{
 "metadata": {
  "name": ""
 },
 "nbformat": 3,
 "nbformat_minor": 0,
 "worksheets": [
  {
   "cells": [
    {
     "cell_type": "code",
     "collapsed": false,
     "input": [
      "import pandas as pd\n",
      "import numpy as np\n",
      "\n",
      "import xgboost as xgb\n",
      "from sklearn import grid_search "
     ],
     "language": "python",
     "metadata": {},
     "outputs": [],
     "prompt_number": 58
    },
    {
     "cell_type": "code",
     "collapsed": false,
     "input": [
      "train_data = pd.read_csv('../../data/train.csv')\n",
      "test_data = pd.read_csv('../../data/test.csv')\n",
      "\n",
      "all_data = pd.concat((train_data.loc[:, 'MSSubClass':'SaleCondition'],\n",
      "                      test_data.loc[:, 'MSSubClass':'SaleCondition']))\n",
      "all_data = pd.get_dummies(all_data)\n",
      "all_data = all_data.fillna(all_data[:train_data.shape[0]].mean())\n",
      "\n",
      "X_train = all_data[:train_data.shape[0]]\n",
      "print X_train.shape\n",
      "X_test = all_data[train_data.shape[0]:]\n",
      "print X_test.shape\n",
      "y = train_data.SalePrice"
     ],
     "language": "python",
     "metadata": {},
     "outputs": [
      {
       "output_type": "stream",
       "stream": "stdout",
       "text": [
        "(1460, 288)\n",
        "(1459, 288)\n"
       ]
      }
     ],
     "prompt_number": 59
    },
    {
     "cell_type": "code",
     "collapsed": false,
     "input": [
      "model = xgb.XGBRegressor(learning_rate=0.1, max_depth=4, min_child_weight=6, gamma=0, subsample=0.8, \n",
      "                         colsample_bytree=0.6, n_estimators=177, reg_alpha=0.01)"
     ],
     "language": "python",
     "metadata": {},
     "outputs": [],
     "prompt_number": 60
    },
    {
     "cell_type": "code",
     "collapsed": false,
     "input": [
      "parameters = {'reg_lambda':[0, 0.5, 1, 1.5]}"
     ],
     "language": "python",
     "metadata": {},
     "outputs": [],
     "prompt_number": 61
    },
    {
     "cell_type": "code",
     "collapsed": false,
     "input": [
      "grid = grid_search.GridSearchCV(model, parameters)"
     ],
     "language": "python",
     "metadata": {},
     "outputs": [],
     "prompt_number": 62
    },
    {
     "cell_type": "code",
     "collapsed": false,
     "input": [
      "grid.fit(X_train, y)"
     ],
     "language": "python",
     "metadata": {},
     "outputs": [
      {
       "metadata": {},
       "output_type": "pyout",
       "prompt_number": 63,
       "text": [
        "GridSearchCV(cv=None, error_score='raise',\n",
        "       estimator=XGBRegressor(base_score=0.5, colsample_bylevel=1, colsample_bytree=0.6,\n",
        "       gamma=0, learning_rate=0.1, max_delta_step=0, max_depth=4,\n",
        "       min_child_weight=6, missing=None, n_estimators=177, nthread=-1,\n",
        "       objective='reg:linear', reg_alpha=0.01, reg_lambda=1,\n",
        "       scale_pos_weight=1, seed=0, silent=True, subsample=0.8),\n",
        "       fit_params={}, iid=True, n_jobs=1,\n",
        "       param_grid={'reg_lambda': [0, 0.5, 1, 1.5]},\n",
        "       pre_dispatch='2*n_jobs', refit=True, scoring=None, verbose=0)"
       ]
      }
     ],
     "prompt_number": 63
    },
    {
     "cell_type": "code",
     "collapsed": false,
     "input": [
      "print (grid)\n",
      "\n",
      "# summarize the results of grid search\n",
      "print (grid.best_score_)\n",
      "print (grid.best_params_)"
     ],
     "language": "python",
     "metadata": {},
     "outputs": [
      {
       "output_type": "stream",
       "stream": "stdout",
       "text": [
        "GridSearchCV(cv=None, error_score='raise',\n",
        "       estimator=XGBRegressor(base_score=0.5, colsample_bylevel=1, colsample_bytree=0.6,\n",
        "       gamma=0, learning_rate=0.1, max_delta_step=0, max_depth=4,\n",
        "       min_child_weight=6, missing=None, n_estimators=177, nthread=-1,\n",
        "       objective='reg:linear', reg_alpha=0.01, reg_lambda=1,\n",
        "       scale_pos_weight=1, seed=0, silent=True, subsample=0.8),\n",
        "       fit_params={}, iid=True, n_jobs=1,\n",
        "       param_grid={'reg_lambda': [0, 0.5, 1, 1.5]},\n",
        "       pre_dispatch='2*n_jobs', refit=True, scoring=None, verbose=0)\n",
        "0.890100050734\n",
        "{'reg_lambda': 1}\n"
       ]
      }
     ],
     "prompt_number": 64
    }
   ],
   "metadata": {}
  }
 ]
}