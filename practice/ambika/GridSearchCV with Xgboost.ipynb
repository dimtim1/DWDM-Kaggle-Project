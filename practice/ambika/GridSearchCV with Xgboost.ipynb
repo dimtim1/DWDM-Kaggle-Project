{
 "metadata": {
  "name": ""
 },
 "nbformat": 3,
 "nbformat_minor": 0,
 "worksheets": [
  {
   "cells": [
    {
     "cell_type": "code",
     "collapsed": false,
     "input": [
      "import pandas as pd\n",
      "import numpy as np\n",
      "\n",
      "import xgboost as xgb\n",
      "from sklearn import grid_search "
     ],
     "language": "python",
     "metadata": {},
     "outputs": [],
     "prompt_number": 25
    },
    {
     "cell_type": "code",
     "collapsed": false,
     "input": [
      "train_data = pd.read_csv('../../data/train.csv')\n",
      "test_data = pd.read_csv('../../data/test.csv')\n",
      "\n",
      "all_data = pd.concat((train_data.loc[:, 'MSSubClass':'SaleCondition'],\n",
      "                      test_data.loc[:, 'MSSubClass':'SaleCondition']))\n",
      "all_data = pd.get_dummies(all_data)\n",
      "all_data = all_data.fillna(all_data[:train_data.shape[0]].mean())\n",
      "\n",
      "X_train = all_data[:train_data.shape[0]]\n",
      "print X_train.shape\n",
      "X_test = all_data[train_data.shape[0]:]\n",
      "print X_test.shape\n",
      "y = train_data.SalePrice"
     ],
     "language": "python",
     "metadata": {},
     "outputs": [
      {
       "output_type": "stream",
       "stream": "stdout",
       "text": [
        "(1460, 288)\n",
        "(1459, 288)\n"
       ]
      }
     ],
     "prompt_number": 26
    },
    {
     "cell_type": "code",
     "collapsed": false,
     "input": [
      "model = xgb.XGBRegressor()"
     ],
     "language": "python",
     "metadata": {},
     "outputs": [],
     "prompt_number": 27
    },
    {
     "cell_type": "code",
     "collapsed": false,
     "input": [
      "parameters = {'gamma':[i/10.0 for i in range(0,5)]}"
     ],
     "language": "python",
     "metadata": {},
     "outputs": [],
     "prompt_number": 28
    },
    {
     "cell_type": "code",
     "collapsed": false,
     "input": [
      "grid = grid_search.GridSearchCV(model, parameters)"
     ],
     "language": "python",
     "metadata": {},
     "outputs": [],
     "prompt_number": "*"
    },
    {
     "cell_type": "code",
     "collapsed": false,
     "input": [
      "grid.fit(X_train, y)"
     ],
     "language": "python",
     "metadata": {},
     "outputs": [],
     "prompt_number": "*"
    },
    {
     "cell_type": "code",
     "collapsed": false,
     "input": [
      "print (grid)\n",
      "\n",
      "# summarize the results of grid search\n",
      "print (grid.best_score_)"
     ],
     "language": "python",
     "metadata": {},
     "outputs": [],
     "prompt_number": "*"
    }
   ],
   "metadata": {}
  }
 ]
}