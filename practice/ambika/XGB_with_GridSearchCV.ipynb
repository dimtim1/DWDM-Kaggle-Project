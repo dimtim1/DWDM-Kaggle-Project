{
 "metadata": {
  "name": ""
 },
 "nbformat": 3,
 "nbformat_minor": 0,
 "worksheets": [
  {
   "cells": [
    {
     "cell_type": "code",
     "collapsed": false,
     "input": [
      "%matplotlib inline\n",
      "\n",
      "import numpy as np # linear algebra\n",
      "import pandas as pd # data processing, CSV file I/O (e.g. pd.read_csv)\n",
      "from pandas import DataFrame, read_csv\n",
      "import matplotlib.pyplot as plt\n",
      "import numpy as np\n",
      "import pandas as pd\n",
      "import sys\n",
      "import math\n",
      "from scipy.stats import skew\n",
      "\n",
      "from sklearn.cross_validation import cross_val_score\n",
      "\n",
      "def rmse_cv(model):\n",
      "    rmse= np.sqrt(-cross_val_score(model, X_train, y, scoring=\"mean_squared_error\", cv = 5))\n",
      "    return(rmse)\n",
      "\n",
      "\n",
      "train = pd.read_csv('../../data/train.csv')\n",
      "test = pd.read_csv('../../data/test.csv')"
     ],
     "language": "python",
     "metadata": {},
     "outputs": [],
     "prompt_number": 25
    },
    {
     "cell_type": "code",
     "collapsed": false,
     "input": [
      "all_data = pd.concat((train.loc[:,'MSSubClass':'SaleCondition'],\n",
      "                      test.loc[:,'MSSubClass':'SaleCondition']))\n"
     ],
     "language": "python",
     "metadata": {},
     "outputs": [],
     "prompt_number": 26
    },
    {
     "cell_type": "code",
     "collapsed": false,
     "input": [
      "#log transform the target:\n",
      "train[\"SalePrice\"] = np.log1p(train[\"SalePrice\"])\n",
      "\n",
      "#log transform skewed numeric features:\n",
      "numeric_feats = all_data.dtypes[all_data.dtypes != \"object\"].index\n",
      "numeric_feats = numeric_feats[1:]\n",
      "\n",
      "skewed_feats = train[numeric_feats].apply(lambda x: skew(x.dropna())) #compute skewness\n",
      "skewed_feats = skewed_feats[skewed_feats > 0.5]\n",
      "skewed_feats = skewed_feats.index\n",
      "\n",
      "\n",
      "all_data[skewed_feats] = np.log1p(all_data[skewed_feats])\n",
      "\n",
      "all_data['Age'] = all_data['YrSold'] - all_data['YearBuilt']\n",
      "all_data['AgeRemod'] = all_data['YrSold'] - all_data['YearRemodAdd']\n",
      "all_data['Baths'] = all_data['FullBath'] + all_data['HalfBath']\n",
      "all_data['BsmtBaths'] = all_data['BsmtFullBath'] + all_data['BsmtHalfBath']\n",
      "all_data['OverallQual_Square']=all_data['OverallQual']*all_data['OverallQual']\n",
      "all_data['OverallQual_3']=all_data['OverallQual']*all_data['OverallQual']*all_data['OverallQual']\n",
      "all_data['OverallQual_exp']=np.exp(all_data['OverallQual'])\n",
      "all_data['GrLivArea_Square']=all_data['GrLivArea']*all_data['GrLivArea']\n",
      "all_data['GrLivArea_3']=all_data['GrLivArea']*all_data['GrLivArea']*all_data['GrLivArea']\n",
      "all_data['GrLivArea_exp']=np.exp(all_data['GrLivArea'])\n",
      "all_data['GrLivArea_log']=np.log(all_data['GrLivArea'])\n",
      "all_data['TotalBsmtSF_/GrLivArea']=all_data['TotalBsmtSF']/all_data['GrLivArea']\n",
      "all_data['OverallCond_sqrt']=np.sqrt(all_data['OverallCond'])\n",
      "all_data['OverallCond_square']=all_data['OverallCond']*all_data['OverallCond']\n",
      "all_data['LotArea_sqrt']=np.sqrt(all_data['LotArea'])\n",
      "all_data['1stFlrSF_sqrt']=np.sqrt(all_data['1stFlrSF'])\n",
      "del all_data['1stFlrSF']\n",
      "all_data['TotRmsAbvGrd_sqrt']=np.sqrt(all_data['TotRmsAbvGrd'])\n",
      "del all_data['TotRmsAbvGrd']\n",
      "\n",
      "stringMS = []\n",
      "for el in np.array(all_data['MSSubClass']):\n",
      "    stringMS.append(str(el))\n",
      "   \n",
      "all_data['MSSubClass'] = stringMS\n",
      "\n",
      "\n",
      "#print all_data['MSSubClass']\n",
      "all_data = pd.get_dummies(all_data)\n",
      "\n",
      "all_data = all_data.fillna(all_data.mean())"
     ],
     "language": "python",
     "metadata": {},
     "outputs": [],
     "prompt_number": 27
    },
    {
     "cell_type": "code",
     "collapsed": false,
     "input": [
      "X_train = all_data[:train.shape[0]]\n",
      "X_test = all_data[train.shape[0]:]\n",
      "y = train.SalePrice"
     ],
     "language": "python",
     "metadata": {},
     "outputs": [],
     "prompt_number": 28
    },
    {
     "cell_type": "code",
     "collapsed": false,
     "input": [
      "print X_train.shape\n",
      "X_test.shape"
     ],
     "language": "python",
     "metadata": {},
     "outputs": [
      {
       "output_type": "stream",
       "stream": "stdout",
       "text": [
        "(1460, 318)\n"
       ]
      },
      {
       "metadata": {},
       "output_type": "pyout",
       "prompt_number": 29,
       "text": [
        "(1459, 318)"
       ]
      }
     ],
     "prompt_number": 29
    },
    {
     "cell_type": "code",
     "collapsed": false,
     "input": [
      "import xgboost\n",
      "model = xgboost.XGBRegressor(colsample_bytree=0.6,\n",
      "                 gamma=0,                 \n",
      "                 learning_rate=0.07,\n",
      "                 max_depth=4,\n",
      "                 min_child_weight=6,\n",
      "                 n_estimators=10000,                                                                    \n",
      "                 reg_alpha=0.01,\n",
      "                 reg_lambda=1,\n",
      "                 subsample=0.8)\n"
     ],
     "language": "python",
     "metadata": {},
     "outputs": [],
     "prompt_number": 30
    },
    {
     "cell_type": "code",
     "collapsed": false,
     "input": [
      "def evaluate(model1, X_training, y_training, X_valid, y_valid):\n",
      "    model.fit(X_training,  y_training)\n",
      "    preds = model.predict(X_valid)\n",
      "    rmse= math.sqrt(sum((preds-y_valid)*(preds-y_valid)/len(preds)))\n",
      "    return rmse\n",
      "\n",
      "\n",
      "def KFold():\n",
      "    meanRes=0\n",
      "    for i in range(0, 10):\n",
      "        X_training = pd.concat([X_train[0:i*146], X_train[(i+1)*146:1460]])\n",
      "        X_valid = X_train[i*146:(i+1)*146]\n",
      "        y_training = pd.concat([y[0:i*146], y[(i+1)*146:1460]])\n",
      "        y_valid = y[i*146:(i+1)*146]\n",
      "        #cv_ridge = [rmse_cv(Ridge(alpha =alpha), X_training, y_training, X_valid, y_valid)\n",
      "        #            for alpha in alphas]\n",
      "        res = evaluate(model, X_training, y_training, X_valid, y_valid)\n",
      "        print(res)\n",
      "        #cv_ridge = pd.Series(cv_ridge, index = alphas)\n",
      "        #print(cv_ridge.argmin())\n",
      "        #res = cv_ridge.min()\n",
      "        meanRes+=res\n",
      "    print(meanRes/10)\n",
      "    return(meanRes/10)\n"
     ],
     "language": "python",
     "metadata": {},
     "outputs": [],
     "prompt_number": 31
    },
    {
     "cell_type": "code",
     "collapsed": false,
     "input": [
      "\n",
      "\n",
      "#KFold()\n",
      "\n"
     ],
     "language": "python",
     "metadata": {},
     "outputs": [],
     "prompt_number": 32
    },
    {
     "cell_type": "code",
     "collapsed": false,
     "input": [
      "model.fit(X_train,  y)\n",
      "preds = np.expm1(model.predict(X_test))\n",
      "\n",
      "solution = pd.DataFrame({\"id\":test.Id, \"SalePrice\":preds})\n",
      "sol2 = solution[['id','SalePrice']]\n",
      "sol2.to_csv(\"xgb_after_setting_new_params.csv\", index = False)"
     ],
     "language": "python",
     "metadata": {},
     "outputs": [],
     "prompt_number": 33
    }
   ],
   "metadata": {}
  }
 ]
}