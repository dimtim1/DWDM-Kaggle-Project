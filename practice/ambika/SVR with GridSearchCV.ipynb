{
 "metadata": {
  "name": ""
 },
 "nbformat": 3,
 "nbformat_minor": 0,
 "worksheets": [
  {
   "cells": [
    {
     "cell_type": "code",
     "collapsed": false,
     "input": [
      "import pandas as pd\n",
      "import numpy as np"
     ],
     "language": "python",
     "metadata": {},
     "outputs": [],
     "prompt_number": 1
    },
    {
     "cell_type": "code",
     "collapsed": false,
     "input": [
      "train_data = pd.read_csv('../../data/train.csv')\n",
      "test_data = pd.read_csv('../../data/test.csv')\n",
      "\n",
      "all_data = pd.concat((train_data.loc[:, 'MSSubClass':'SaleCondition'],\n",
      "                      test_data.loc[:, 'MSSubClass':'SaleCondition']))\n",
      "all_data = pd.get_dummies(all_data)\n",
      "all_data = all_data.fillna(all_data[:train_data.shape[0]].mean())\n",
      "\n",
      "X_train = all_data[:train_data.shape[0]]\n",
      "print X_train.shape\n",
      "X_test = all_data[train_data.shape[0]:]\n",
      "print X_test.shape\n",
      "y = train_data.SalePrice"
     ],
     "language": "python",
     "metadata": {},
     "outputs": [
      {
       "output_type": "stream",
       "stream": "stdout",
       "text": [
        "(1460, 288)\n",
        "(1459, 288)\n"
       ]
      }
     ],
     "prompt_number": 2
    },
    {
     "cell_type": "code",
     "collapsed": false,
     "input": [
      "from sklearn.svm import SVR\n",
      "from sklearn import grid_search"
     ],
     "language": "python",
     "metadata": {},
     "outputs": [],
     "prompt_number": 3
    },
    {
     "cell_type": "code",
     "collapsed": false,
     "input": [
      "svr = SVR()"
     ],
     "language": "python",
     "metadata": {},
     "outputs": [],
     "prompt_number": 4
    },
    {
     "cell_type": "code",
     "collapsed": false,
     "input": [
      "parameters = {'kernel':('linear','rbf'), 'C':[1,0.1,0.01,0.001,0.0001]}"
     ],
     "language": "python",
     "metadata": {},
     "outputs": [],
     "prompt_number": 8
    },
    {
     "cell_type": "code",
     "collapsed": false,
     "input": [
      "grid = grid_search.GridSearchCV(svr, parameters)"
     ],
     "language": "python",
     "metadata": {},
     "outputs": [],
     "prompt_number": 10
    },
    {
     "cell_type": "code",
     "collapsed": false,
     "input": [
      "grid.fit(X_train, y)"
     ],
     "language": "python",
     "metadata": {},
     "outputs": [
      {
       "metadata": {},
       "output_type": "pyout",
       "prompt_number": 11,
       "text": [
        "GridSearchCV(cv=None, error_score='raise',\n",
        "       estimator=SVR(C=1.0, cache_size=200, coef0=0.0, degree=3, epsilon=0.1, gamma='auto',\n",
        "  kernel='rbf', max_iter=-1, shrinking=True, tol=0.001, verbose=False),\n",
        "       fit_params={}, iid=True, n_jobs=1,\n",
        "       param_grid={'kernel': ('linear', 'rbf'), 'C': [1, 0.1, 0.01, 0.001, 0.0001]},\n",
        "       pre_dispatch='2*n_jobs', refit=True, scoring=None, verbose=0)"
       ]
      }
     ],
     "prompt_number": 11
    },
    {
     "cell_type": "code",
     "collapsed": false,
     "input": [
      "print (grid)\n",
      "\n",
      "# summarize the results of grid search\n",
      "print (grid.best_score_)\n"
     ],
     "language": "python",
     "metadata": {},
     "outputs": [
      {
       "output_type": "stream",
       "stream": "stdout",
       "text": [
        "GridSearchCV(cv=None, error_score='raise',\n",
        "       estimator=SVR(C=1.0, cache_size=200, coef0=0.0, degree=3, epsilon=0.1, gamma='auto',\n",
        "  kernel='rbf', max_iter=-1, shrinking=True, tol=0.001, verbose=False),\n",
        "       fit_params={}, iid=True, n_jobs=1,\n",
        "       param_grid={'kernel': ('linear', 'rbf'), 'C': [1, 0.1, 0.01, 0.001, 0.0001]},\n",
        "       pre_dispatch='2*n_jobs', refit=True, scoring=None, verbose=0)\n",
        "0.732194791397\n"
       ]
      }
     ],
     "prompt_number": 12
    },
    {
     "cell_type": "code",
     "collapsed": false,
     "input": [],
     "language": "python",
     "metadata": {},
     "outputs": []
    }
   ],
   "metadata": {}
  }
 ]
}