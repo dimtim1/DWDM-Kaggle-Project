{
 "metadata": {
  "name": ""
 },
 "nbformat": 3,
 "nbformat_minor": 0,
 "worksheets": [
  {
   "cells": [
    {
     "cell_type": "code",
     "collapsed": false,
     "input": [
      "import pandas as pd\n",
      "import numpy as np"
     ],
     "language": "python",
     "metadata": {},
     "outputs": [],
     "prompt_number": 1
    },
    {
     "cell_type": "code",
     "collapsed": false,
     "input": [
      "train_data = pd.read_csv('../../data/train.csv')\n",
      "test_data = pd.read_csv('../../data/test.csv')\n",
      "\n",
      "all_data = pd.concat((train_data.loc[:, 'MSSubClass':'SaleCondition'],\n",
      "                      test_data.loc[:, 'MSSubClass':'SaleCondition']))\n",
      "all_data = pd.get_dummies(all_data)\n",
      "all_data = all_data.fillna(all_data[:train_data.shape[0]].mean())\n",
      "\n",
      "X_train = all_data[:train_data.shape[0]]\n",
      "print X_train.shape\n",
      "X_test = all_data[train_data.shape[0]:]\n",
      "print X_test.shape\n",
      "y = train_data.SalePrice"
     ],
     "language": "python",
     "metadata": {},
     "outputs": [
      {
       "output_type": "stream",
       "stream": "stdout",
       "text": [
        "(1460, 288)\n",
        "(1459, 288)\n"
       ]
      }
     ],
     "prompt_number": 2
    },
    {
     "cell_type": "code",
     "collapsed": false,
     "input": [
      "from sklearn.svm import SVR"
     ],
     "language": "python",
     "metadata": {},
     "outputs": [],
     "prompt_number": 3
    },
    {
     "cell_type": "code",
     "collapsed": false,
     "input": [
      "svr = SVR(kernel='linear', C=1, epsilon=0.2)"
     ],
     "language": "python",
     "metadata": {},
     "outputs": [],
     "prompt_number": 4
    },
    {
     "cell_type": "code",
     "collapsed": false,
     "input": [
      "svr.fit(X_train, y)\n",
      "\n",
      "print X_test.shape\n",
      "pred = svr.predict(X_test)"
     ],
     "language": "python",
     "metadata": {},
     "outputs": [
      {
       "output_type": "stream",
       "stream": "stdout",
       "text": [
        "(1459, 288)\n"
       ]
      }
     ],
     "prompt_number": 5
    },
    {
     "cell_type": "code",
     "collapsed": false,
     "input": [
      "print pred"
     ],
     "language": "python",
     "metadata": {},
     "outputs": [
      {
       "output_type": "stream",
       "stream": "stdout",
       "text": [
        "[ 139286.85047612  180071.97199434  204012.76905617 ...,  200012.77260548\n",
        "  121378.02891317  232952.13101441]\n"
       ]
      }
     ],
     "prompt_number": 6
    },
    {
     "cell_type": "code",
     "collapsed": false,
     "input": [],
     "language": "python",
     "metadata": {},
     "outputs": [],
     "prompt_number": 6
    }
   ],
   "metadata": {}
  }
 ]
}