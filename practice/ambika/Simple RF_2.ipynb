{
 "metadata": {
  "name": ""
 },
 "nbformat": 3,
 "nbformat_minor": 0,
 "worksheets": [
  {
   "cells": [
    {
     "cell_type": "code",
     "collapsed": false,
     "input": [
      "import pandas as pd\n",
      "import numpy as np\n",
      "\n",
      "from sklearn.cross_validation import cross_val_score\n",
      "\n",
      "from sklearn.ensemble import RandomForestRegressor"
     ],
     "language": "python",
     "metadata": {},
     "outputs": [],
     "prompt_number": 8
    },
    {
     "cell_type": "code",
     "collapsed": false,
     "input": [
      "train = pd.read_csv('../../data/train.csv')\n",
      "test = pd.read_csv('../../data/test.csv')\n",
      "\n",
      "all_data = pd.concat((train.loc[:,'MSSubClass':'SaleCondition'],\n",
      "                     test.loc[:,'MSSubClass':'SaleCondition']))"
     ],
     "language": "python",
     "metadata": {},
     "outputs": [],
     "prompt_number": 9
    },
    {
     "cell_type": "code",
     "collapsed": false,
     "input": [
      "all_data = pd.get_dummies(all_data)\n",
      "all_data = all_data.fillna(all_data.mean())\n",
      "\n",
      "X_train = all_data[:train.shape[0]]\n",
      "X_test = all_data[train.shape[0]:]\n",
      "y = train.SalePrice"
     ],
     "language": "python",
     "metadata": {},
     "outputs": [],
     "prompt_number": 10
    },
    {
     "cell_type": "code",
     "collapsed": false,
     "input": [
      "# Random Forest\n",
      "rf = RandomForestRegressor()\n",
      "\n",
      "rf.fit(X_train,y)\n",
      "\n",
      "scores = cross_val_score(rf, X_train, y, cv=10, scoring='mean_squared_error')\n",
      "\n",
      "print -scores.mean()"
     ],
     "language": "python",
     "metadata": {},
     "outputs": [
      {
       "output_type": "stream",
       "stream": "stdout",
       "text": [
        "965081269.781\n"
       ]
      }
     ],
     "prompt_number": 11
    },
    {
     "cell_type": "code",
     "collapsed": false,
     "input": [
      "preds = np.expm1(rf.predict(X_test))\n",
      "\n",
      "solution = pd.DataFrame({\"id\":test.Id, \"SalePrice\":preds})\n",
      "sol2 = solution[['id','SalePrice']]\n",
      "sol2.to_csv(\"simple_rf.csv\", index=False)"
     ],
     "language": "python",
     "metadata": {},
     "outputs": [],
     "prompt_number": 12
    },
    {
     "cell_type": "code",
     "collapsed": false,
     "input": [],
     "language": "python",
     "metadata": {},
     "outputs": []
    }
   ],
   "metadata": {}
  }
 ]
}